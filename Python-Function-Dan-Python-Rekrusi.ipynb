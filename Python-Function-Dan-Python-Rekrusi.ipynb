{
 "cells": [
  {
   "cell_type": "markdown",
   "id": "0b8e1ad4",
   "metadata": {},
   "source": [
    "A. Python Function"
   ]
  },
  {
   "cell_type": "markdown",
   "id": "43e4aa00",
   "metadata": {},
   "source": [
    "1. Mengkonverensi Suhu Menggunakan Function"
   ]
  },
  {
   "cell_type": "code",
   "execution_count": 2,
   "id": "ace40acb",
   "metadata": {},
   "outputs": [
    {
     "name": "stdout",
     "output_type": "stream",
     "text": [
      "Masukkan nilai suhu yang akan di konverensi dalam satuan °C : 90\n",
      "Di peroleh hasil konverensi suhu, dari  90 °C, ke Reamur sebesar :  72.0 °R\n",
      "Di peroleh hasil konverensi suhu, dari  90 °C, ke Kelvin sebesar :  363.15 °K\n",
      "Di peroleh hasil konverensi suhu, dari  90 °C, ke Fahrenheit sebesar :  194.0 °F\n"
     ]
    }
   ],
   "source": [
    "def main():\n",
    "    \n",
    "    def konv_reamur(suhu):\n",
    "        konv_reamur = 4/5 * suhu\n",
    "        return konv_reamur\n",
    "\n",
    "    def konv_kelvin(suhu):\n",
    "        konv_kelvin = suhu + 273.15\n",
    "        return konv_kelvin\n",
    "\n",
    "    def konv_fahrenheit(suhu):\n",
    "        konv_fahrenheit = (9/5 * suhu) + 32\n",
    "        return konv_fahrenheit\n",
    "\n",
    "    def konverensi(suhu):\n",
    "        print(\"Di peroleh hasil konverensi suhu, dari \", suhu, \"°C, ke Reamur sebesar : \", konv_reamur(suhu), \"°R\")\n",
    "        print(\"Di peroleh hasil konverensi suhu, dari \", suhu, \"°C, ke Kelvin sebesar : \", konv_kelvin(suhu), \"°K\")\n",
    "        print(\"Di peroleh hasil konverensi suhu, dari \", suhu, \"°C, ke Fahrenheit sebesar : \", konv_fahrenheit(suhu), \"°F\")\n",
    "    \n",
    "    suhu = eval(input(\"Masukkan nilai suhu yang akan di konverensi dalam satuan °C : \"))\n",
    "    konverensi(suhu)\n",
    "main()"
   ]
  },
  {
   "cell_type": "markdown",
   "id": "129f25fc",
   "metadata": {},
   "source": [
    "2. Menggunakan Seluruh Function Pada Module Math"
   ]
  },
  {
   "cell_type": "code",
   "execution_count": 1,
   "id": "08dd47c0",
   "metadata": {},
   "outputs": [
    {
     "name": "stdout",
     "output_type": "stream",
     "text": [
      "A. Sqrt Function\n",
      "Masukkan angka : 100\n",
      "Di peroleh hasil akar dari bilangan 100 sebesar :  10.0\n",
      "\n",
      "B. Exp Function\n",
      "Masukkan angka : 65\n",
      "Di peroleh hasil pengembalian yang di pangkatkan dari bilangan 65 sebesar :  1.6948892444103338e+28\n",
      "\n",
      "C. Log Function\n",
      "Masukkan angka : 14\n",
      "Di peroleh hasil log dari bilangan 14 sebesar :  2.6390573296152584\n",
      "\n",
      "D. Log10 Function\n",
      "Masukkan angka : 86\n",
      "Di peroleh hasil log10 dari bilangan 86 sebesar :  1.9344984512435677\n",
      "\n",
      "E. Cos Function\n",
      "Masukkan angka : 0\n",
      "Di peroleh hasil cos dari bilangan 0 sebesar :  1.0\n",
      "\n",
      "F. Pow Function\n",
      "Masukkan angka : 3\n",
      "Masukkan pangkat : 5\n",
      "Di peroleh hasil dari bilangan 3 pangkat 5 sebesar :  243.0\n",
      "\n",
      "G. Degrees Function\n",
      "Masukkan angka : 50\n",
      "Di peroleh hasil konverensi 50 radian, sebesar :  2864.7889756541163 derajat\n",
      "\n",
      "H. Radians Function\n",
      "Masukkan angka : 90\n",
      "Di peroleh hasil konverensi 90 derajat, sebesar :  1.5707963267948966 radian\n",
      "\n",
      "I. Fabs Function\n",
      "Masukkan angka : -99\n",
      "Di peroleh hasil nilai mutlak dari bilangan -99 sebesar :  99.0\n",
      "\n"
     ]
    }
   ],
   "source": [
    "def main():\n",
    "    \n",
    "    print(\"A. Sqrt Function\")\n",
    "    from math import sqrt\n",
    "    bil = eval(input(\"Masukkan angka : \"))\n",
    "    root = sqrt(bil)\n",
    "    print(\"Di peroleh hasil akar dari bilangan\", bil, \"sebesar : \", root)\n",
    "    print()\n",
    "    \n",
    "    print(\"B. Exp Function\")\n",
    "    from math import exp\n",
    "    bil = eval(input(\"Masukkan angka : \"))\n",
    "    pangkat = exp(bil)\n",
    "    print(\"Di peroleh hasil pengembalian yang di pangkatkan dari bilangan\", bil, \"sebesar : \", pangkat)\n",
    "    print()\n",
    "    \n",
    "    print(\"C. Log Function\")\n",
    "    from math import log\n",
    "    bil = eval(input(\"Masukkan angka : \"))\n",
    "    lg = log(bil)\n",
    "    print(\"Di peroleh hasil log dari bilangan\", bil, \"sebesar : \", lg)\n",
    "    print()\n",
    "    \n",
    "    print(\"D. Log10 Function\")\n",
    "    from math import log10\n",
    "    bil = eval(input(\"Masukkan angka : \"))\n",
    "    lg10 = log10(bil)\n",
    "    print(\"Di peroleh hasil log10 dari bilangan\", bil, \"sebesar : \", lg10)\n",
    "    print()\n",
    "    \n",
    "    print(\"E. Cos Function\")\n",
    "    from math import cos\n",
    "    bil = eval(input(\"Masukkan angka : \"))\n",
    "    cs = cos(bil)\n",
    "    print(\"Di peroleh hasil cos dari bilangan\", bil, \"sebesar : \", cs)\n",
    "    print()\n",
    "    \n",
    "    print(\"F. Pow Function\")\n",
    "    from math import pow\n",
    "    bil1 = eval(input(\"Masukkan angka : \"))\n",
    "    bil2 = eval(input(\"Masukkan pangkat : \"))\n",
    "    pw = pow(bil1, bil2)\n",
    "    print(\"Di peroleh hasil dari bilangan\", bil1, \"pangkat\", bil2, \"sebesar : \", pw)\n",
    "    print()\n",
    "    \n",
    "    print(\"G. Degrees Function\")\n",
    "    from math import degrees\n",
    "    bil = eval(input(\"Masukkan angka : \"))\n",
    "    dg = degrees(bil)\n",
    "    print(\"Di peroleh hasil konverensi\", bil, \"radian, sebesar : \", dg, \"derajat\")\n",
    "    print()\n",
    "    \n",
    "    print(\"H. Radians Function\")\n",
    "    from math import radians\n",
    "    bil = eval(input(\"Masukkan angka : \"))\n",
    "    rd = radians(bil)\n",
    "    print(\"Di peroleh hasil konverensi\", bil, \"derajat, sebesar : \", rd, \"radian\")\n",
    "    print()\n",
    "    \n",
    "    print(\"I. Fabs Function\")\n",
    "    from math import fabs\n",
    "    bil = eval(input(\"Masukkan angka : \"))\n",
    "    fb = fabs(bil)\n",
    "    print(\"Di peroleh hasil nilai mutlak dari bilangan\", bil, \"sebesar : \", fb)\n",
    "    print()\n",
    "    \n",
    "main()"
   ]
  },
  {
   "cell_type": "markdown",
   "id": "4e7ee5eb",
   "metadata": {},
   "source": [
    "3. Memberikan Reward Jika 2 Angka Dadu Kembar"
   ]
  },
  {
   "cell_type": "code",
   "execution_count": 15,
   "id": "70909795",
   "metadata": {},
   "outputs": [
    {
     "name": "stdout",
     "output_type": "stream",
     "text": [
      "+-------+\n",
      "|       |\n",
      "|   *   |\n",
      "|       |\n",
      "+-------+\n",
      "+-------+\n",
      "|       |\n",
      "|   *   |\n",
      "|       |\n",
      "+-------+\n",
      "Angka dadu kembar, selamat anda mendapatkan reward = 100\n"
     ]
    }
   ],
   "source": [
    "from random import randrange #dadu kembar\n",
    "\n",
    "nilai = [0,0]\n",
    "for n in range(0,2):\n",
    "    nilai [n] = randrange(1,6)\n",
    "    print(\"+-------+\")\n",
    "    \n",
    "    if nilai [n] == 1:\n",
    "        print(\"|       |\")\n",
    "        print(\"|   *   |\")\n",
    "        print(\"|       |\")\n",
    "    elif nilai [n] == 2:\n",
    "        print(\"| *     |\")\n",
    "        print(\"|       |\")\n",
    "        print(\"|     * |\")\n",
    "    elif nilai [n] == 3:\n",
    "        print(\"|     * |\")\n",
    "        print(\"|   *   |\")\n",
    "        print(\"| *     |\")\n",
    "    elif nilai [n] == 4:\n",
    "        print(\"| *   * |\")\n",
    "        print(\"|       |\")\n",
    "        print(\"| *   * |\")\n",
    "    elif nilai [n] == 5:\n",
    "        print(\"| *   * |\")\n",
    "        print(\"|   *   |\")\n",
    "        print(\"| *   * |\")\n",
    "    elif nilai [n] == 6:\n",
    "        print(\"| * * * |\")\n",
    "        print(\"| * * * |\")\n",
    "        print(\"| * * * |\")\n",
    "    else:\n",
    "        print(\" *** Eror : Illegal die Value ***\")\n",
    "    print(\"+-------+\")\n",
    "    \n",
    "if nilai[0] == nilai[1]:\n",
    "    print(\"Angka dadu kembar, selamat anda mendapatkan reward = 100\")\n",
    "else:\n",
    "    print(\"Anda dadu tidak kembar, silahkan coba lagi\")"
   ]
  },
  {
   "cell_type": "code",
   "execution_count": 16,
   "id": "8ae23f7e",
   "metadata": {},
   "outputs": [
    {
     "name": "stdout",
     "output_type": "stream",
     "text": [
      "+-------+\n",
      "| *     |\n",
      "|       |\n",
      "|     * |\n",
      "+-------+\n",
      "+-------+\n",
      "|     * |\n",
      "|   *   |\n",
      "| *     |\n",
      "+-------+\n",
      "Anda dadu tidak kembar, silahkan coba lagi\n"
     ]
    }
   ],
   "source": [
    "from random import randrange #dadu tidak kembar\n",
    "\n",
    "nilai = [0,0]\n",
    "for n in range(0,2):\n",
    "    nilai [n] = randrange(1,6)\n",
    "    print(\"+-------+\")\n",
    "    \n",
    "    if nilai [n] == 1:\n",
    "        print(\"|       |\")\n",
    "        print(\"|   *   |\")\n",
    "        print(\"|       |\")\n",
    "    elif nilai [n] == 2:\n",
    "        print(\"| *     |\")\n",
    "        print(\"|       |\")\n",
    "        print(\"|     * |\")\n",
    "    elif nilai [n] == 3:\n",
    "        print(\"|     * |\")\n",
    "        print(\"|   *   |\")\n",
    "        print(\"| *     |\")\n",
    "    elif nilai [n] == 4:\n",
    "        print(\"| *   * |\")\n",
    "        print(\"|       |\")\n",
    "        print(\"| *   * |\")\n",
    "    elif nilai [n] == 5:\n",
    "        print(\"| *   * |\")\n",
    "        print(\"|   *   |\")\n",
    "        print(\"| *   * |\")\n",
    "    elif nilai [n] == 6:\n",
    "        print(\"| * * * |\")\n",
    "        print(\"| * * * |\")\n",
    "        print(\"| * * * |\")\n",
    "    else:\n",
    "        print(\" *** Eror : Illegal die Value ***\")\n",
    "    print(\"+-------+\")\n",
    "    \n",
    "if nilai[0] == nilai[1]:\n",
    "    print(\"Angka dadu kembar, selamat anda mendapatkan reward = 100\")\n",
    "else:\n",
    "    print(\"Anda dadu tidak kembar, silahkan coba lagi\")"
   ]
  },
  {
   "cell_type": "markdown",
   "id": "7b8f3985",
   "metadata": {},
   "source": [
    "B. Python Recursion (Rekursi)"
   ]
  },
  {
   "cell_type": "markdown",
   "id": "2549f12d",
   "metadata": {},
   "source": [
    "1. Bilangan Faktorial"
   ]
  },
  {
   "cell_type": "code",
   "execution_count": 5,
   "id": "6630da8d",
   "metadata": {},
   "outputs": [
    {
     "name": "stdout",
     "output_type": "stream",
     "text": [
      "Di peroleh hasil 0! :  1\n",
      "Di peroleh hasil 1! :  1\n",
      "Di peroleh hasil 2! :  2\n",
      "Di peroleh hasil 3! :  6\n",
      "Di peroleh hasil 4! :  24\n",
      "Di peroleh hasil 5! :  120\n"
     ]
    }
   ],
   "source": [
    "def faktorial(n):\n",
    "    if n == 0:\n",
    "        return 1\n",
    "    else:\n",
    "        return n * faktorial(n-1)\n",
    "    \n",
    "def main():\n",
    "    print(\"Di peroleh hasil 0! : \", faktorial(0))\n",
    "    print(\"Di peroleh hasil 1! : \", faktorial(1))\n",
    "    print(\"Di peroleh hasil 2! : \", faktorial(2))\n",
    "    print(\"Di peroleh hasil 3! : \", faktorial(3))\n",
    "    print(\"Di peroleh hasil 4! : \", faktorial(4))\n",
    "    print(\"Di peroleh hasil 5! : \", faktorial(5))\n",
    "    \n",
    "main()"
   ]
  },
  {
   "cell_type": "markdown",
   "id": "dd18a6c0",
   "metadata": {},
   "source": [
    "2. Bilangan Berpangkat"
   ]
  },
  {
   "cell_type": "code",
   "execution_count": 9,
   "id": "0c97704d",
   "metadata": {},
   "outputs": [
    {
     "name": "stdout",
     "output_type": "stream",
     "text": [
      "Masukkan bilangan yang akan di pangkatkan : 3\n",
      "Masukkan pangkat : 5\n",
      "Di peroleh hasil bilangan berpangkat dari 3 di pangkatkan dengan  5 sebesar :  243\n"
     ]
    }
   ],
   "source": [
    "def bil_pangkat(x,y):\n",
    "    if y == 0:\n",
    "        return 1\n",
    "    else:\n",
    "        return x * bil_pangkat(x,y-1)\n",
    "    \n",
    "x = int(input(\"Masukkan bilangan yang akan di pangkatkan : \"))\n",
    "y = int(input(\"Masukkan pangkat : \"))\n",
    "\n",
    "print(\"Di peroleh hasil bilangan berpangkat dari\", x, \"di pangkatkan dengan \", y, \"sebesar : \", bil_pangkat(x,y))"
   ]
  },
  {
   "cell_type": "markdown",
   "id": "9ee29726",
   "metadata": {},
   "source": [
    "3. Deret Fibonacci"
   ]
  },
  {
   "cell_type": "code",
   "execution_count": 3,
   "id": "719f17e3",
   "metadata": {},
   "outputs": [
    {
     "name": "stdout",
     "output_type": "stream",
     "text": [
      "Masukkan banyak suku yang akan di proses : 10\n",
      "Di peroleh hasil angka dari proses fibonacci : \n",
      "0\n",
      "1\n",
      "1\n",
      "2\n",
      "3\n",
      "5\n",
      "8\n",
      "13\n",
      "21\n",
      "34\n"
     ]
    }
   ],
   "source": [
    "def fibonacci(n):\n",
    "    if n <= 1:\n",
    "        return n\n",
    "    else:\n",
    "        return (fibonacci(n-2) + fibonacci(n-1))\n",
    "    \n",
    "number = int(input(\"Masukkan banyak suku yang akan di proses : \"))\n",
    "\n",
    "if number <= 0:\n",
    "    print(\"Input tidak valid! Silahkan masukkan bilangan positif\")\n",
    "else:\n",
    "    print(\"Di peroleh hasil angka dari proses fibonacci : \")\n",
    "    for i in range(number):\n",
    "        print(fibonacci(i))"
   ]
  },
  {
   "cell_type": "markdown",
   "id": "8defdde8",
   "metadata": {},
   "source": [
    "4. Membalikkan String"
   ]
  },
  {
   "cell_type": "code",
   "execution_count": 6,
   "id": "9fa8ecba",
   "metadata": {},
   "outputs": [
    {
     "name": "stdout",
     "output_type": "stream",
     "text": [
      "Masukkan kata yang akan di reverse : halo\n",
      "Di dapatkan hasil kata yang telah di reverse :  olah\n"
     ]
    }
   ],
   "source": [
    "def reverse(n):\n",
    "    if len(n) == 0:\n",
    "        return n\n",
    "    else:\n",
    "        return reverse(n[1:]) + n[0]\n",
    "\n",
    "kalimat = str(input(\"Masukkan kata yang akan di reverse : \"))\n",
    "\n",
    "print(\"Di dapatkan hasil kata yang telah di reverse : \", reverse(kalimat))"
   ]
  },
  {
   "cell_type": "markdown",
   "id": "9b2d5d59",
   "metadata": {},
   "source": [
    "5. Konversi Bilangan Desimal Ke Bilangan Biner, Oktal, Hexadesimal"
   ]
  },
  {
   "cell_type": "code",
   "execution_count": 1,
   "id": "06bdda22",
   "metadata": {},
   "outputs": [
    {
     "name": "stdout",
     "output_type": "stream",
     "text": [
      "Konversi Bilangan Desimal ke Bilangan Biner\n",
      "Masukkan angka yang akan di konversi : 60\n",
      "Masukkan basis : 2\n",
      "Di peroleh hasil konversi dari Bilangan Desimal ke Bilangan Biner, yakni :  111100\n",
      "\n",
      "Konversi Bilangan Desimal ke Bilangan Oktal\n",
      "Masukkan angka yang akan di konversi : 60\n",
      "Masukkan basis : 8\n",
      "Di peroleh hasil konversi dari Bilangan Desimal ke Bilangan Oktal, yakni :  74\n",
      "\n",
      "Konversi Bilangan Desimal ke Bilangan Heksadesimal\n",
      "Masukkan angka yang akan di konversi : 60\n",
      "Masukkan basis : 16\n",
      "Di peroleh hasil konversi dari Bilangan Desimal ke Bilangan Heksadesimal, yakni :  3C\n",
      "\n"
     ]
    }
   ],
   "source": [
    "def konv():\n",
    "    \n",
    "    print(\"Konversi Bilangan Desimal ke Bilangan Biner\")\n",
    "    def biner(n,base):\n",
    "        konversi = \"0123456789ABCDEF\"\n",
    "        if n < base:\n",
    "            return konversi[n]\n",
    "        else:\n",
    "            return biner(n//base,base) + konversi[n%base]\n",
    "    angka = int(input(\"Masukkan angka yang akan di konversi : \"))\n",
    "    basis = int(input(\"Masukkan basis : \"))\n",
    "    print(\"Di peroleh hasil konversi dari Bilangan Desimal ke Bilangan Biner, yakni : \", biner(angka,basis))\n",
    "    print()\n",
    "    \n",
    "    print(\"Konversi Bilangan Desimal ke Bilangan Oktal\")\n",
    "    def oktal(n,base):\n",
    "        konversi = \"0123456789ABCDEF\"\n",
    "        if n < base:\n",
    "            return konversi[n]\n",
    "        else:\n",
    "            return oktal(n//base,base) + konversi[n%base]\n",
    "    angka = int(input(\"Masukkan angka yang akan di konversi : \"))\n",
    "    basis = int(input(\"Masukkan basis : \"))\n",
    "    print(\"Di peroleh hasil konversi dari Bilangan Desimal ke Bilangan Oktal, yakni : \", oktal(angka,basis))\n",
    "    print()\n",
    "    \n",
    "    print(\"Konversi Bilangan Desimal ke Bilangan Heksadesimal\")\n",
    "    def heksadesimal(n,base):\n",
    "        konversi = \"0123456789ABCDEF\"\n",
    "        if n < base :\n",
    "            return konversi[n]\n",
    "        else:\n",
    "            return heksadesimal(n//base,base) + konversi[n%base]\n",
    "    angka = int(input(\"Masukkan angka yang akan di konversi : \"))\n",
    "    basis = int(input(\"Masukkan basis : \"))\n",
    "    print(\"Di peroleh hasil konversi dari Bilangan Desimal ke Bilangan Heksadesimal, yakni : \", heksadesimal(angka,basis))\n",
    "    print()\n",
    "    \n",
    "konv()"
   ]
  },
  {
   "cell_type": "markdown",
   "id": "aef48ec6",
   "metadata": {},
   "source": [
    "6. Triangular Numbers"
   ]
  },
  {
   "cell_type": "code",
   "execution_count": 4,
   "id": "ce5fb94e",
   "metadata": {},
   "outputs": [
    {
     "name": "stdout",
     "output_type": "stream",
     "text": [
      "Masukkan angka : 5\n",
      "Di peroleh total triangular numbers, yakni :  15\n"
     ]
    }
   ],
   "source": [
    "def triangular(n):\n",
    "    if n == 1:\n",
    "        return n\n",
    "    else:\n",
    "        return (n + triangular(n-1))\n",
    "angka = int(input(\"Masukkan angka : \"))\n",
    "print(\"Di peroleh total triangular numbers, yakni : \", triangular(angka))"
   ]
  }
 ],
 "metadata": {
  "kernelspec": {
   "display_name": "Python 3 (ipykernel)",
   "language": "python",
   "name": "python3"
  },
  "language_info": {
   "codemirror_mode": {
    "name": "ipython",
    "version": 3
   },
   "file_extension": ".py",
   "mimetype": "text/x-python",
   "name": "python",
   "nbconvert_exporter": "python",
   "pygments_lexer": "ipython3",
   "version": "3.9.12"
  }
 },
 "nbformat": 4,
 "nbformat_minor": 5
}
